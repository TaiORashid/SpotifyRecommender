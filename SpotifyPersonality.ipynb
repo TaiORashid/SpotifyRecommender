{
 "cells": [
  {
   "cell_type": "code",
   "execution_count": 98,
   "id": "4f9939a2",
   "metadata": {},
   "outputs": [
    {
     "name": "stdout",
     "output_type": "stream",
     "text": [
      "Requirement already satisfied: requests in c:\\users\\taizo\\anaconda3\\lib\\site-packages (2.27.1)\n",
      "Requirement already satisfied: urllib3<1.27,>=1.21.1 in c:\\users\\taizo\\anaconda3\\lib\\site-packages (from requests) (1.26.9)\n",
      "Requirement already satisfied: charset-normalizer~=2.0.0 in c:\\users\\taizo\\anaconda3\\lib\\site-packages (from requests) (2.0.4)\n",
      "Requirement already satisfied: idna<4,>=2.5 in c:\\users\\taizo\\anaconda3\\lib\\site-packages (from requests) (3.3)\n",
      "Requirement already satisfied: certifi>=2017.4.17 in c:\\users\\taizo\\anaconda3\\lib\\site-packages (from requests) (2021.10.8)\n"
     ]
    },
    {
     "name": "stderr",
     "output_type": "stream",
     "text": [
      "ERROR: Could not find a version that satisfies the requirement json (from versions: none)\n",
      "ERROR: No matching distribution found for json\n"
     ]
    }
   ],
   "source": [
    "! pip install requests --user\n",
    "! pip install json -- user\n",
    "import requests as r\n",
    "import base64\n",
    "import json"
   ]
  },
  {
   "cell_type": "code",
   "execution_count": 99,
   "id": "1ed38e07",
   "metadata": {},
   "outputs": [],
   "source": [
    "clientID = \"c453594354f84e9d9e0fce7a8f7d126b\"\n",
    "clientSecret = \"053da3045843415bbaebb9b601eb8242\"\n",
    "authHeader = {}\n",
    "authData = {}\n",
    "authURL = \"https://accounts.spotify.com/api/token\"\n",
    "playlistID = \"23jWhC7vo3tNqVZ8KDZ7ij\""
   ]
  },
  {
   "cell_type": "code",
   "execution_count": 100,
   "id": "19e624e4",
   "metadata": {},
   "outputs": [
    {
     "name": "stdout",
     "output_type": "stream",
     "text": [
      "YzQ1MzU5NDM1NGY4NGU5ZDllMGZjZTdhOGY3ZDEyNmI6MDUzZGEzMDQ1ODQzNDE1YmJhZWJiOWI2MDFlYjgyNDI=\n",
      "<Response [200]>\n",
      "{\n",
      "  \"access_token\": \"BQCik1MYzPjuGg5rzdRKtZltV8OffZdqNzlcA901mrfee-rQF7z_MDmo1iJNcfDX5JrN6QFvO7jphFjLWRSAcCsuaBpSwH7P6MHYygWXB0grfYGkeI4\",\n",
      "  \"token_type\": \"Bearer\",\n",
      "  \"expires_in\": 3600\n",
      "}\n",
      "BQCik1MYzPjuGg5rzdRKtZltV8OffZdqNzlcA901mrfee-rQF7z_MDmo1iJNcfDX5JrN6QFvO7jphFjLWRSAcCsuaBpSwH7P6MHYygWXB0grfYGkeI4\n"
     ]
    }
   ],
   "source": [
    "def getAccessToken(clientID, clientSecret):\n",
    "    message = f\"{clientID}:{clientSecret}\"\n",
    "    message_bytes = message.encode('ascii')\n",
    "    base64_bytes = base64.b64encode(message_bytes)\n",
    "    base64_message = base64_bytes.decode('ascii')\n",
    "    print(base64_message)\n",
    "\n",
    "    authHeader['Authorization'] = \"Basic \" + base64_message\n",
    "    authData['grant_type'] = \"client_credentials\"\n",
    "\n",
    "    res = r.post(authURL, headers=authHeader, data=authData)\n",
    "    print(res)\n",
    "    responseObject = res.json()\n",
    "    print(json.dumps(responseObject, indent=2))\n",
    "\n",
    "    accessToken = responseObject['access_token']\n",
    "    return accessToken\n",
    "\n",
    "token = getAccessToken(clientID, clientSecret)\n",
    "print(token)"
   ]
  },
  {
   "cell_type": "code",
   "execution_count": 101,
   "id": "524c2c9f",
   "metadata": {},
   "outputs": [],
   "source": [
    "def getPlaylistTracks(token, playlistID):\n",
    "    playlistEndPoint = f\"https://api.spotify.com/v1/playlists/{playlistID}\"\n",
    "    getHeader = {\n",
    "        \"Authorization\": \"Bearer \" + token\n",
    "    }\n",
    "    res = r.get(playlistEndPoint, headers= getHeader)\n",
    "    playlistObject = res.json()\n",
    "    return playlistObject\n",
    "tracks = getPlaylistTracks(token=token, playlistID=playlistID)\n",
    "#playlistData = (json.dumps(tracks, indent=4))\n",
    "#print(playlistData)"
   ]
  },
  {
   "cell_type": "code",
   "execution_count": 102,
   "id": "d90ecc10",
   "metadata": {},
   "outputs": [
    {
     "name": "stdout",
     "output_type": "stream",
     "text": [
      "['5pZVsZ8TOGly1KnYFmZ61B', '0Hrd6CSafHHqKptyFppmqH']\n"
     ]
    }
   ],
   "source": [
    "def getTrackIDS(tracks_):\n",
    "    musicIDList = []\n",
    "    for item in tracks['tracks']['items']:\n",
    "        musicTrack = item['track']\n",
    "        musicIDList.append(musicTrack['id'])\n",
    "    return musicIDList\n",
    "trackIDS = getTrackIDS(tracks_=tracks)\n",
    "print(trackIDS)"
   ]
  },
  {
   "cell_type": "code",
   "execution_count": 103,
   "id": "3dc28320",
   "metadata": {},
   "outputs": [],
   "source": [
    "def getTrackFeatures(trackID_):\n",
    "    audioFeaturesEndPoint = f\"https://api.spotify.com/v1/audio-features/{trackID_}\"\n",
    "    getHeader = {\n",
    "        \"Authorization\": \"Bearer \" + token\n",
    "    }\n",
    "    res = r.get(audioFeaturesEndPoint, headers= getHeader)\n",
    "    featuresObject = res.json()\n",
    "    return featuresObject"
   ]
  },
  {
   "cell_type": "code",
   "execution_count": 104,
   "id": "7493ecf9",
   "metadata": {},
   "outputs": [
    {
     "name": "stdout",
     "output_type": "stream",
     "text": [
      "{'danceability': 0.502, 'energy': 0.874, 'key': 1, 'loudness': -5.981, 'mode': 0, 'speechiness': 0.0677, 'acousticness': 0.0933, 'instrumentalness': 0.000173, 'liveness': 0.0638, 'valence': 0.884, 'tempo': 199.751, 'type': 'audio_features', 'id': '5pZVsZ8TOGly1KnYFmZ61B', 'uri': 'spotify:track:5pZVsZ8TOGly1KnYFmZ61B', 'track_href': 'https://api.spotify.com/v1/tracks/5pZVsZ8TOGly1KnYFmZ61B', 'analysis_url': 'https://api.spotify.com/v1/audio-analysis/5pZVsZ8TOGly1KnYFmZ61B', 'duration_ms': 243903, 'time_signature': 4}\n",
      "{'danceability': 0.442, 'energy': 0.872, 'key': 2, 'loudness': -5.072, 'mode': 1, 'speechiness': 0.123, 'acousticness': 0.00025, 'instrumentalness': 1.74e-05, 'liveness': 0.0602, 'valence': 0.568, 'tempo': 159.867, 'type': 'audio_features', 'id': '0Hrd6CSafHHqKptyFppmqH', 'uri': 'spotify:track:0Hrd6CSafHHqKptyFppmqH', 'track_href': 'https://api.spotify.com/v1/tracks/0Hrd6CSafHHqKptyFppmqH', 'analysis_url': 'https://api.spotify.com/v1/audio-analysis/0Hrd6CSafHHqKptyFppmqH', 'duration_ms': 167773, 'time_signature': 4}\n"
     ]
    }
   ],
   "source": [
    "print(getTrackFeatures(trackID_=trackIDS[0]))\n",
    "print(getTrackFeatures(trackID_=trackIDS[1]))"
   ]
  },
  {
   "cell_type": "code",
   "execution_count": null,
   "id": "a245923b",
   "metadata": {},
   "outputs": [],
   "source": []
  }
 ],
 "metadata": {
  "kernelspec": {
   "display_name": "Python 3 (ipykernel)",
   "language": "python",
   "name": "python3"
  },
  "language_info": {
   "codemirror_mode": {
    "name": "ipython",
    "version": 3
   },
   "file_extension": ".py",
   "mimetype": "text/x-python",
   "name": "python",
   "nbconvert_exporter": "python",
   "pygments_lexer": "ipython3",
   "version": "3.9.12"
  }
 },
 "nbformat": 4,
 "nbformat_minor": 5
}
